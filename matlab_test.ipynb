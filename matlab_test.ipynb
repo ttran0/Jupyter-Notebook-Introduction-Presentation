{
 "cells": [
  {
   "cell_type": "code",
   "execution_count": 1,
   "metadata": {
    "collapsed": false
   },
   "outputs": [
    {
     "data": {
      "text/plain": [
       "A =\n",
       "     0     0     0\n",
       "     0     0     0\n",
       "     0     0     0"
      ]
     },
     "execution_count": 1,
     "metadata": {},
     "output_type": "execute_result"
    }
   ],
   "source": [
    "A = zeros(3,3)"
   ]
  },
  {
   "cell_type": "code",
   "execution_count": 3,
   "metadata": {
    "collapsed": false
   },
   "outputs": [],
   "source": [
    "cd('/Users/truong/Desktop/OneDrive/Math579/Homework_6')"
   ]
  },
  {
   "cell_type": "code",
   "execution_count": 6,
   "metadata": {
    "collapsed": false
   },
   "outputs": [
    {
     "data": {
      "text/plain": [
       "success =\n",
       "    32\n",
       "Elapsed time is 132.684854 seconds."
      ]
     },
     "execution_count": 6,
     "metadata": {},
     "output_type": "execute_result"
    }
   ],
   "source": [
    "tic\n",
    "[X,lab] = loadFACES( [1:37],'train');\n",
    "[Z,lab_t] = loadFACES([33],'test');\n",
    "[Z2] = loadFACES([38],'test');\n",
    "p=120;\n",
    "R=randn(p,32256);\n",
    "R=bsxfun(@rdivide,R,sqrt(sum(R.*R,2)));\n",
    "D=X';\n",
    "D=bsxfun(@rdivide,D,sqrt(sum(D.*D,1)));\n",
    "success=0;\n",
    "for i=1:32\n",
    "    z=Z(i,:)';\n",
    "    alpha=LASSO(R*D,R*z,0.001);\n",
    "    m=CLASSIFY(R*D,alpha,R*z,lab);\n",
    "    if m==33\n",
    "        success=success+1;\n",
    "    end\n",
    "end\n",
    "success\n",
    "toc"
   ]
  },
  {
   "cell_type": "code",
   "execution_count": 5,
   "metadata": {
    "collapsed": false
   },
   "outputs": [
    {
     "data": {
      "text/plain": [
       "ans =\n",
       "     6"
      ]
     },
     "execution_count": 5,
     "metadata": {},
     "output_type": "execute_result"
    }
   ],
   "source": [
    "3+3"
   ]
  },
  {
   "cell_type": "code",
   "execution_count": null,
   "metadata": {
    "collapsed": true
   },
   "outputs": [],
   "source": []
  }
 ],
 "metadata": {
  "kernelspec": {
   "display_name": "Matlab",
   "language": "matlab",
   "name": "matlab_kernel"
  },
  "language_info": {
   "codemirror_mode": "Octave",
   "file_extension": ".m",
   "help_links": [
    {
     "text": "MetaKernel Magics",
     "url": "https://github.com/calysto/metakernel/blob/master/metakernel/magics/README.md"
    }
   ],
   "mimetype": "text/x-matlab",
   "name": "octave"
  }
 },
 "nbformat": 4,
 "nbformat_minor": 0
}
